{
  "nbformat": 4,
  "nbformat_minor": 0,
  "metadata": {
    "colab": {
      "name": "DollyZoom_learner_template.ipynb",
      "provenance": [],
      "collapsed_sections": []
    },
    "kernelspec": {
      "name": "python3",
      "display_name": "Python 3"
    }
  },
  "cells": [
    {
      "cell_type": "code",
      "metadata": {
        "id": "aRwMqYMGJdst",
        "colab_type": "code",
        "colab": {}
      },
      "source": [
        "'''\n",
        "Function (modify)\n",
        "'''\n",
        "\n",
        "def compute_f_pos(d1_ref, d2_ref, H1, H2, ratio, f_ref):\n",
        "  \"\"\"\n",
        "  compute camera focal length and camera position to achieve certain ratio\n",
        "  between objects\n",
        "\n",
        "  Input:\n",
        "  - d1_ref: distance of the first object\n",
        "  - d2_ref: distance of the second object\n",
        "  - H1: height of the first object in physical world\n",
        "  - H2: height of the second object in physical world\n",
        "  - ratio: ratio between two objects (h1/h2)\n",
        "  - f_ref: 1 by 1 double, previous camera focal length\n",
        "  Output:\n",
        "  - f: 1 by 1, camera focal length    \n",
        "  - pos: 1 by 1, camera position\n",
        "  \"\"\"\n",
        "\n",
        "  # IMPLEMENT HERE\n",
        "  pos = (ratio * H2 * d1_ref - H1 * d2_ref) / (ratio * H2 - H1)\n",
        "  f = f_ref / d1_ref * (d1_ref - pos)\n",
        "\n",
        "  return f, pos"
      ],
      "execution_count": 0,
      "outputs": []
    },
    {
      "cell_type": "code",
      "metadata": {
        "id": "Zs5rZ_GvPfWf",
        "colab_type": "code",
        "colab": {}
      },
      "source": [
        "'''\n",
        "Test\n",
        "'''\n",
        "d1_ref = 4\n",
        "d2_ref = 20\n",
        "H1 = 4\n",
        "H2 = 6\n",
        "ratio = 2\n",
        "f_ref = 400\n",
        "f, pos = compute_f_pos( d1_ref, d2_ref, H1, H2, ratio, f_ref )"
      ],
      "execution_count": 0,
      "outputs": []
    },
    {
      "cell_type": "code",
      "metadata": {
        "id": "2d68CUI2MMtc",
        "colab_type": "code",
        "colab": {}
      },
      "source": [
        "'''\n",
        "Function (modify)\n",
        "'''\n",
        "def compute_focal_length( d_ref, f_ref, pos ):\n",
        "  \"\"\"\n",
        "  compute camera focal length using given camera position\n",
        "\n",
        "  Input:\n",
        "  - d_ref: 1 by 1 double, distance of the object whose size remains constant\n",
        "  - f_ref: 1 by 1 double, previous camera focal length\n",
        "  - pos: 1 by n, each element represent camera center position on the z axis.\n",
        "  Output:\n",
        "  - f: 1 by n, camera focal length\n",
        "  \"\"\"\n",
        "  # IMPLEMENT HERE\n",
        "  f = f_ref / d_ref * (d_ref - pos)\n",
        "  \n",
        "  return f"
      ],
      "execution_count": 0,
      "outputs": []
    },
    {
      "cell_type": "code",
      "metadata": {
        "id": "sL5eE68nMe2j",
        "colab_type": "code",
        "colab": {}
      },
      "source": [
        "'''\n",
        "Test\n",
        "'''\n",
        "d_ref = 4\n",
        "f_ref = 400\n",
        "pos = -5\n",
        "f = compute_focal_length( d_ref, f_ref, pos)"
      ],
      "execution_count": 0,
      "outputs": []
    }
  ]
}